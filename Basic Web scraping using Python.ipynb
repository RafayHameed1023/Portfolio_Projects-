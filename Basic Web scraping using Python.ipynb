{
 "cells": [
  {
   "cell_type": "code",
   "execution_count": null,
   "id": "08ad1943-37b1-41cc-a27e-ba73b0a384e6",
   "metadata": {},
   "outputs": [],
   "source": [
    "# This is a basic intro level web scraping project that I am attempting. \n",
    "# In this project I will be connecting to a amazon product web page and then scraping the product name and the price.\n",
    "# This project might not have any real world application but it gives me an idea on how to gather data from a website URL."
   ]
  },
  {
   "cell_type": "code",
   "execution_count": 1,
   "id": "02b2e606-2fca-4a96-8a11-cd25a041e9db",
   "metadata": {},
   "outputs": [],
   "source": [
    "# Importing all the necessary packages. \n",
    "\n",
    "from bs4 import BeautifulSoup\n",
    "import requests\n",
    "import time\n",
    "import datetime\n",
    "import smtplib"
   ]
  },
  {
   "cell_type": "code",
   "execution_count": 30,
   "id": "f64d2ad9-aa45-4573-9bfd-11bafc125036",
   "metadata": {},
   "outputs": [
    {
     "name": "stdout",
     "output_type": "stream",
     "text": [
      "\n",
      "\n",
      "              Unquote Paper Friends Wall Art Posters, Multicolor, Printed, 10L x 15W cm, Set of 30\n",
      "             \n",
      "\n",
      "\n",
      "                             379\n",
      "                             \n",
      "                              .\n",
      "                             \n",
      "\n"
     ]
    }
   ],
   "source": [
    "# Connecting to the website.\n",
    "# This code chunk uses BeautifulSoup to connect to web page from where I want to scrap the data from.\n",
    "\n",
    "URL = 'https://www.amazon.in/dp/B0BGX9YZQG?ref_=cm_sw_r_apin_dp_J70P76EEA60E9WW76G4D&language=en-IN'\n",
    "\n",
    "headers = {\"User-Agent\": \"Mozilla/5.0 (Macintosh; Intel Mac OS X 10_15_7) AppleWebKit/537.36 (KHTML, like Gecko) Chrome/122.0.0.0 Safari/537.36\", \"Accept-Encoding\":\"gzip, deflate\", \"Accept\":\"text/html,application/xhtml+xml,application/xml;q=0.9,*/*;q=0.8\", \"DNT\":\"1\",\"Connection\":\"close\", \"Upgrade-Insecure-Requests\":\"1\"}\n",
    "\n",
    "page = requests.get(URL, headers=headers)\n",
    "\n",
    "soup1 = BeautifulSoup(page.content, \"html.parser\")\n",
    "\n",
    "soup2 = BeautifulSoup(soup1.prettify(), \"html.parser\")\n",
    "\n",
    "title = soup2.find(id='title').get_text()\n",
    "\n",
    "price_span = soup2.find('span', class_='a-price-whole')   # I was not able to use the span id for price for some reason so I have used the span class instead.\n",
    "\n",
    "price = price_span.get_text()\n",
    "\n",
    "#rating = soup2.find(id='customerReviewsSmallStars').get_text()\n",
    "\n",
    "print(title)\n",
    "print(price)\n",
    "#print(rating)"
   ]
  },
  {
   "cell_type": "code",
   "execution_count": 35,
   "id": "1d8d4005-0b8f-4b4c-ab11-7bc6c42bf294",
   "metadata": {},
   "outputs": [
    {
     "name": "stdout",
     "output_type": "stream",
     "text": [
      "Unquote Paper Friends Wall Art Posters, Multicolor, Printed, 10L x 15W cm, Set of 30\n",
      "379\n",
      "                             \n",
      "                              \n"
     ]
    }
   ],
   "source": [
    "# Let's format the title and price properly and get rid of the '.' at the end of our price.\n",
    "\n",
    "title = title.strip()\n",
    "price = price.strip()[0:-1]\n",
    "print(title)\n",
    "print(price)"
   ]
  },
  {
   "cell_type": "code",
   "execution_count": 40,
   "id": "b7dc1ec9-4d3f-4c59-8ebd-dc3815e9c57e",
   "metadata": {},
   "outputs": [
    {
     "name": "stdout",
     "output_type": "stream",
     "text": [
      "2024-03-20\n"
     ]
    }
   ],
   "source": [
    "# Creating a date stamp for each row.\n",
    "\n",
    "datetime.date.today()\n",
    "\n",
    "today = datetime.date.today()\n",
    "\n",
    "print(today)"
   ]
  },
  {
   "cell_type": "code",
   "execution_count": 42,
   "id": "f026a429-97be-4fd5-a356-eb5aa917fca6",
   "metadata": {},
   "outputs": [],
   "source": [
    "# Let's create a csv and write the data in it that we want.\n",
    "\n",
    "import csv\n",
    "\n",
    "header = ['Title', 'Price', 'Date']\n",
    "data = [title, price, today]\n",
    "\n",
    "with open('AmazonWebScraperDataset.csv', 'w', newline='', encoding='UTF8') as f:\n",
    "    writer = csv.writer(f)\n",
    "    writer.writerow(header)\n",
    "    writer.writerow(data)\n"
   ]
  },
  {
   "cell_type": "code",
   "execution_count": 48,
   "id": "5cdbf7fd-f070-4dc6-9450-febeec40cb4e",
   "metadata": {},
   "outputs": [
    {
     "name": "stdout",
     "output_type": "stream",
     "text": [
      "                                               Title  Price        Date\n",
      "0  Unquote Paper Friends Wall Art Posters, Multic...    379  2024-03-20\n",
      "1  Unquote Paper Friends Wall Art Posters, Multic...    379  2024-03-20\n"
     ]
    }
   ],
   "source": [
    "# Checking if the csv is created properly.\n",
    "\n",
    "import pandas as pd\n",
    "\n",
    "df = pd.read_csv('AmazonWebScraperDataset.csv')\n",
    "print(df)"
   ]
  },
  {
   "cell_type": "code",
   "execution_count": 44,
   "id": "d606c0be-8144-43d0-863e-e5e7131797eb",
   "metadata": {},
   "outputs": [],
   "source": [
    "# Replacing 'w' with 'a+' so that we can append the csv instead of overwriting it each time I run the code.\n",
    "\n",
    "with open('AmazonWebScraperDataset.csv', 'a+', newline='', encoding='UTF8') as f:\n",
    "    writer = csv.writer(f)\n",
    "    writer.writerow(data)"
   ]
  },
  {
   "cell_type": "code",
   "execution_count": 46,
   "id": "4967872d-ff26-4428-a45e-59a2d8a7d560",
   "metadata": {},
   "outputs": [],
   "source": [
    "# Compiling all the code into the function 'check_price()'.\n",
    "\n",
    "def check_price():\n",
    "    URL = 'https://www.amazon.in/dp/B0BGX9YZQG?ref_=cm_sw_r_apin_dp_J70P76EEA60E9WW76G4D&language=en-IN'\n",
    "\n",
    "    headers = {\"User-Agent\": \"Mozilla/5.0 (Macintosh; Intel Mac OS X 10_15_7) AppleWebKit/537.36 (KHTML, like Gecko) Chrome/122.0.0.0 Safari/537.36\", \"Accept-Encoding\":\"gzip, deflate\", \"Accept\":\"text/html,application/xhtml+xml,application/xml;q=0.9,*/*;q=0.8\", \"DNT\":\"1\",\"Connection\":\"close\", \"Upgrade-Insecure-Requests\":\"1\"}\n",
    "\n",
    "    page = requests.get(URL, headers=headers)\n",
    "\n",
    "    soup1 = BeautifulSoup(page.content, \"html.parser\")\n",
    "\n",
    "    soup2 = BeautifulSoup(soup1.prettify(), \"html.parser\")\n",
    "\n",
    "    title = soup2.find(id='title').get_text()\n",
    "\n",
    "    price_span = soup2.find('span', class_='a-price-whole')\n",
    "\n",
    "    price = price_span.get_text()\n",
    "\n",
    "    title = title.strip()\n",
    "    price = price.strip()[0:-1]\n",
    "\n",
    "    today = datetime.date.today()\n",
    "\n",
    "    import csv\n",
    "\n",
    "    header = ['Title', 'Price', 'Date']\n",
    "    data = [title, price, today]\n",
    "\n",
    "    with open('AmazonWebScraperDataset.csv', 'a+', newline='', encoding='UTF8') as f:\n",
    "        writer = csv.writer(f)\n",
    "        writer.writerow(data)\n",
    "    "
   ]
  },
  {
   "cell_type": "code",
   "execution_count": 50,
   "id": "a66da240-f4db-403a-afbe-9765d665eea9",
   "metadata": {},
   "outputs": [
    {
     "ename": "KeyboardInterrupt",
     "evalue": "",
     "output_type": "error",
     "traceback": [
      "\u001b[0;31m---------------------------------------------------------------------------\u001b[0m",
      "\u001b[0;31mKeyboardInterrupt\u001b[0m                         Traceback (most recent call last)",
      "Cell \u001b[0;32mIn[50], line 3\u001b[0m\n\u001b[1;32m      1\u001b[0m \u001b[38;5;28;01mwhile\u001b[39;00m(\u001b[38;5;28;01mTrue\u001b[39;00m):\n\u001b[1;32m      2\u001b[0m     check_price()\n\u001b[0;32m----> 3\u001b[0m     time\u001b[38;5;241m.\u001b[39msleep(\u001b[38;5;241m5\u001b[39m)\n",
      "\u001b[0;31mKeyboardInterrupt\u001b[0m: "
     ]
    }
   ],
   "source": [
    "# I have used 5(sec) for demo purposes. \n",
    "# time.sleep() checks the data after a specified time (5 seconds in this case).\n",
    "\n",
    "while(True):\n",
    "    check_price()\n",
    "    time.sleep(5)"
   ]
  },
  {
   "cell_type": "code",
   "execution_count": 52,
   "id": "962b452f-4283-45bc-a241-c601321c2f74",
   "metadata": {},
   "outputs": [
    {
     "name": "stdout",
     "output_type": "stream",
     "text": [
      "                                               Title  Price        Date\n",
      "0  Unquote Paper Friends Wall Art Posters, Multic...    379  2024-03-20\n",
      "1  Unquote Paper Friends Wall Art Posters, Multic...    379  2024-03-20\n",
      "2  Unquote Paper Friends Wall Art Posters, Multic...    379  2024-03-20\n",
      "3  Unquote Paper Friends Wall Art Posters, Multic...    379  2024-03-20\n"
     ]
    }
   ],
   "source": [
    "# I ran the above code for 10 seconds and as a result we have 2 new rows in our csv.\n",
    "\n",
    "import pandas as pd\n",
    "\n",
    "df = pd.read_csv('AmazonWebScraperDataset.csv')\n",
    "print(df)"
   ]
  },
  {
   "cell_type": "code",
   "execution_count": null,
   "id": "1fffbe91-341b-4999-a796-0b15910bfb4c",
   "metadata": {},
   "outputs": [],
   "source": []
  },
  {
   "cell_type": "code",
   "execution_count": null,
   "id": "994a0fae-cf6c-4887-bd2b-e39012dcc066",
   "metadata": {},
   "outputs": [],
   "source": []
  },
  {
   "cell_type": "code",
   "execution_count": null,
   "id": "6b32b0f3-7a4d-4b86-8c3d-c03d19bb5fb1",
   "metadata": {},
   "outputs": [],
   "source": []
  }
 ],
 "metadata": {
  "kernelspec": {
   "display_name": "Python 3 (ipykernel)",
   "language": "python",
   "name": "python3"
  },
  "language_info": {
   "codemirror_mode": {
    "name": "ipython",
    "version": 3
   },
   "file_extension": ".py",
   "mimetype": "text/x-python",
   "name": "python",
   "nbconvert_exporter": "python",
   "pygments_lexer": "ipython3",
   "version": "3.11.7"
  }
 },
 "nbformat": 4,
 "nbformat_minor": 5
}
